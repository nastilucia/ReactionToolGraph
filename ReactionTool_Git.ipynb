{
 "cells": [
  {
   "cell_type": "code",
   "execution_count": 1,
   "metadata": {},
   "outputs": [],
   "source": [
    "import collections\n",
    "import matplotlib.pyplot as plt\n",
    "import networkx as nx\n",
    "import numpy as np"
   ]
  },
  {
   "cell_type": "code",
   "execution_count": 2,
   "metadata": {},
   "outputs": [],
   "source": [
    "file = open(\"testfile.txt\",\"w\") #creare file txt per scrivere \"w\"\n",
    "\n",
    "file.write(\"\"\"\n",
    "C1 + Cn -> Cx\n",
    "Cx -> C1 +Cn\n",
    "\n",
    "\n",
    "\"\"\")\n",
    "\n",
    "#file.write(\" A -> D \\n\")\n",
    "file.close() #chiudere il file"
   ]
  },
  {
   "cell_type": "raw",
   "metadata": {},
   "source": [
    "A1 + A6 -> A1\n",
    "A2 -> A4 + A5\n",
    "A2 + A3 -> A2\n",
    "A3 + A6 ->A6\n",
    "A3 -> A1\n",
    "A6 -> A2\n",
    "A4 -> A6\n",
    "A1 + A4 -> A4\n",
    "A5 ->A6\n",
    "A3 + A4 ->A4\n",
    "A1 + A2 + A7 -> A1 + A2\n",
    "\n",
    "\n",
    "\n",
    "\n",
    "%altro esempio\n",
    "\n",
    "A1+A6->A1\n",
    "A2->A4+A5\n",
    "A2+A3->A2\n",
    "A3+A6->A6\n",
    "A3->A1\n",
    "A6->A1\n",
    "A6->A2\n",
    "A4->A1+A6\n",
    "A5->A6\n",
    "A3+A4->A4"
   ]
  },
  {
   "cell_type": "code",
   "execution_count": 3,
   "metadata": {},
   "outputs": [],
   "source": [
    "reactionCount = 0\n",
    "G = nx.DiGraph()\n",
    "reactions = set()\n",
    "reaction_dict = dict()\n",
    "\n",
    "# read the input file\n",
    "for line in open(\"testfile.txt\", \"r\"):\n",
    "    line = line.replace(\" \", \"\").strip()\n",
    "    if len(line) == 0:\n",
    "        continue\n",
    "    left, right = line.split(\"->\") #scandisce il testo word by word\n",
    "    reactionCount += 1\n",
    "\n",
    "    left = left.split(\"+\")\n",
    "    #left = map((lambda x: x.strip()), left)\n",
    "    right = right.split(\"+\")\n",
    "    #right = map((lambda x: x.strip()), right)\n",
    "\n",
    "    reaction_name = \"R{}\".format(reactionCount)\n",
    "\n",
    "    # add the reaction into the graph\n",
    "    assert not G.has_node(reaction_name)\n",
    "    reactions.add(reaction_name)\n",
    "    reaction_dict[reaction_name] = tuple(sorted(right))  # IMPORTANT: sorted is used to avoid ambiguity and tuple is for comparison\n",
    "    G.add_node(reaction_name)\n",
    "\n",
    "    # add the nodes on the LEFT of the reaction and a link between them and the reaction itself\n",
    "    for node_name in left:\n",
    "        if not G.has_node(node_name):\n",
    "            G.add_node(node_name)\n",
    "        G.add_edge(node_name, reaction_name, r=\"+\")\n",
    "\n",
    "    # add the nodes on the RIGHT of the reaction and a link between the reaction and them\n",
    "    for node_name in right:\n",
    "        if not G.has_node(node_name):\n",
    "            G.add_node(node_name)\n",
    "        G.add_edge(reaction_name, node_name, r=\"+\")"
   ]
  },
  {
   "cell_type": "code",
   "execution_count": 4,
   "metadata": {},
   "outputs": [
    {
     "data": {
      "image/png": "[encoded data removed]",
      "text/plain": [
       "<Figure size 432x288 with 1 Axes>"
      ]
     },
     "metadata": {
      "needs_background": "light"
     },
     "output_type": "display_data"
    }
   ],
   "source": [
    "pos = nx.circular_layout(G, scale= 20)\n",
    "shape=[]\n",
    "color_map = [\"w\" if (node in reactions) else \"r\" for node in G.nodes()]\n",
    "edge_map = [\"k\" if (G.get_edge_data(u,v)[\"r\"] == \"+\") else \"r\" for u,v in G.edges()]\n",
    "\n",
    "nx.draw_networkx(G, pos, node_color=color_map, edge_color=edge_map, node_shape='o', arrows=True)\n",
    "limits=plt.axis('off') # turn off axis\n",
    "plt.show()"
   ]
  },
  {
   "cell_type": "raw",
   "metadata": {},
   "source": [
    "edge_set = set(tuple(edge) for edge in G.edges())\n",
    "in_edges = collections.defaultdict(list)\n",
    "out_edges = collections.defaultdict(list)\n",
    "for b,e in edge_set:\n",
    "    in_edges[e].append(b)\n",
    "    out_edges[b].append(e)\n",
    "\n",
    "siblings = set(\n",
    "    min((s1,s2), (s2,s1))  # this is to avoid duplicates in which the order of the tuple changes\n",
    "    for reaction, species in in_edges.iteritems()\n",
    "    if reaction.startswith(\"R\")  # this is to ensure that the first term is a reaction\n",
    "    for s1 in species\n",
    "    for s2 in species\n",
    "    if s1!=s2\n",
    ")\n",
    "print siblings\n",
    "\n",
    "conflicts = set(\n",
    "    (s2, r2)\n",
    "    for s1, s2 in siblings\n",
    "    for r2 in out_edges[s1]\n",
    ") - edge_set\n",
    "print conflicts"
   ]
  },
  {
   "cell_type": "code",
   "execution_count": 5,
   "metadata": {},
   "outputs": [
    {
     "name": "stdout",
     "output_type": "stream",
     "text": [
      "defaultdict(<type 'list'>, {'C1': ['R2'], 'Cx': ['R1'], 'R1': ['Cn', 'C1'], 'R2': ['Cx'], 'Cn': ['R2']})\n",
      "set([('C1', 'Cn', 'R1')])\n",
      "set([])\n"
     ]
    }
   ],
   "source": [
    "edge_set = set(tuple(edge) for edge in G.edges())\n",
    "in_edges = collections.defaultdict(list)\n",
    "out_edges = collections.defaultdict(list)\n",
    "for b,e in edge_set:\n",
    "    in_edges[e].append(b)\n",
    "    out_edges[b].append(e)\n",
    "print in_edges\n",
    "\n",
    "# precompute the reactions with the same right side\n",
    "equal_reactions = dict(\n",
    "    (min((r1,r2), (r2,r1)), reaction_dict[r1] == reaction_dict[r2])\n",
    "    for r1 in reactions\n",
    "    for r2 in reactions\n",
    "    if r2 > r1\n",
    ")\n",
    "\n",
    "siblings_and_reaction = set(\n",
    "    min((s1,s2,reaction), (s2,s1,reaction))  # this is to avoid duplicates in which the order of the tuple changes\n",
    "    for reaction, species in in_edges.iteritems()\n",
    "    if reaction.startswith(\"R\")  # this is to ensure that the first term is a reaction\n",
    "    for s1 in species\n",
    "    for s2 in species\n",
    "    if s1!=s2\n",
    ")\n",
    "print siblings_and_reaction\n",
    "\n",
    "conflicts = set(\n",
    "    (s2, r2)\n",
    "    for s1, s2, r1 in siblings_and_reaction\n",
    "    for r2 in out_edges[s1]\n",
    "    if r1 != r2 and not equal_reactions[min((r1,r2), (r2,r1))]\n",
    ") - edge_set\n",
    "print conflicts"
   ]
  },
  {
   "cell_type": "code",
   "execution_count": 6,
   "metadata": {},
   "outputs": [],
   "source": [
    "for u,v in conflicts:\n",
    "    G.add_edge(u, v, r='-')"
   ]
  },
  {
   "cell_type": "code",
   "execution_count": 7,
   "metadata": {},
   "outputs": [
    {
     "data": {
      "image/png": "[encoded data removed]",
      "text/plain": [
       "<Figure size 432x288 with 1 Axes>"
      ]
     },
     "metadata": {
      "needs_background": "light"
     },
     "output_type": "display_data"
    }
   ],
   "source": [
    "pos= nx.circular_layout(G, scale= 1)\n",
    "color_map = [\"w\" if (node in reactions) else \"r\" for node in G.nodes()]\n",
    "edge_map = [\"k\" if (G.get_edge_data(u,v)[\"r\"] == \"+\") else \"r\" for u,v in G.edges()]\n",
    "\n",
    "nx.draw_networkx(G, pos, node_color=color_map, edge_color=edge_map, node_shape='o', arrows=True)  \n",
    "limits=plt.axis('off') # turn off axis\n",
    "plt.show()"
   ]
  },
  {
   "cell_type": "raw",
   "metadata": {
    "scrolled": true
   },
   "source": [
    "Input = raw_input(\"Choose INPUT of the chemical reaction network: \")\n",
    "Output = raw_input(\"Choose OUTPUT of the chemical reaction network: \") "
   ]
  },
  {
   "cell_type": "code",
   "execution_count": 8,
   "metadata": {},
   "outputs": [],
   "source": [
    "def get_path_r(G, u, v):\n",
    "    assert G.has_node(u) and G.has_node(v)\n",
    "\n",
    "    queue = collections.deque([v])\n",
    "    edge_set = set(tuple(edge) for edge in G.edges())\n",
    "    in_edges = collections.defaultdict(list)\n",
    "    out_edges = collections.defaultdict(list)\n",
    "    for b,e in edge_set:\n",
    "        in_edges[e].append(b)\n",
    "        out_edges[b].append(e)\n",
    "\n",
    "    node_colors = dict()\n",
    "    while len(queue):\n",
    "        out_node = queue.pop()\n",
    "        out_node_color = node_colors.get(out_node, None)\n",
    "\n",
    "        for in_node in in_edges[out_node]:\n",
    "            # rule to propagate the colors\n",
    "            edge_r = G.get_edge_data(in_node, out_node)[\"r\"]\n",
    "            if out_node_color is not None:\n",
    "                if out_node_color == \"?\":\n",
    "                    color_propagation = \"?\"\n",
    "                elif edge_r == \"-\" and out_node_color == \"-\":\n",
    "                    color_propagation = \"+\"\n",
    "                elif edge_r == \"-\" and out_node_color == \"+\":\n",
    "                    color_propagation = \"-\"\n",
    "                elif edge_r == \"+\" and out_node_color == \"-\":\n",
    "                    color_propagation = \"-\"\n",
    "                elif edge_r == \"+\" and out_node_color == \"+\":\n",
    "                    color_propagation = \"+\"\n",
    "            else:\n",
    "                color_propagation = edge_r\n",
    "\n",
    "            # propagation of the color\n",
    "            in_node_color = node_colors.get(in_node, None)\n",
    "            if in_node_color is None:\n",
    "                node_colors[in_node] = color_propagation\n",
    "                if color_propagation == \"?\":\n",
    "                    queue.appendleft(in_node)\n",
    "                else:\n",
    "                    queue.append(in_node)\n",
    "            elif in_node_color != color_propagation and in_node_color != \"?\":\n",
    "                node_colors[in_node] = \"?\"\n",
    "                queue.appendleft(in_node)\n",
    "    return node_colors.get(u, None)"
   ]
  },
  {
   "cell_type": "code",
   "execution_count": 19,
   "metadata": {},
   "outputs": [
    {
     "name": "stdout",
     "output_type": "stream",
     "text": [
      "+\n"
     ]
    }
   ],
   "source": [
    "print get_path_r(G, \"C1\", \"Cx\")"
   ]
  },
  {
   "cell_type": "markdown",
   "metadata": {},
   "source": [
    "# TEST"
   ]
  },
  {
   "cell_type": "code",
   "execution_count": 23,
   "metadata": {},
   "outputs": [],
   "source": [
    "Gtest = nx.DiGraph()\n",
    "\n",
    "Gtest.add_node(\"A\")\n",
    "Gtest.add_node(\"B\")\n",
    "Gtest.add_node(\"C\")\n",
    "Gtest.add_node(\"D\")\n",
    "Gtest.add_node(\"E\")\n",
    "\n",
    "Gtest.add_edge(\"A\", \"B\", r=\"-\")\n",
    "Gtest.add_edge(\"B\", \"C\", r=\"+\")\n",
    "Gtest.add_edge(\"C\", \"B\", r=\"+\")\n",
    "Gtest.add_edge(\"C\", \"D\", r=\"+\")\n",
    "Gtest.add_edge(\"D\", \"E\", r=\"+\")"
   ]
  },
  {
   "cell_type": "code",
   "execution_count": 24,
   "metadata": {},
   "outputs": [
    {
     "data": {
      "image/png": "[encoded data removed]",
      "text/plain": [
       "<Figure size 432x288 with 1 Axes>"
      ]
     },
     "metadata": {
      "needs_background": "light"
     },
     "output_type": "display_data"
    }
   ],
   "source": [
    "pos = nx.circular_layout(Gtest, scale= 1)\n",
    "edge_map = [\"k\" if (Gtest.get_edge_data(u,v)[\"r\"] == \"+\") else \"r\" for u,v in Gtest.edges()]\n",
    "\n",
    "nx.draw_networkx(Gtest, pos, node_color=\"r\", edge_color=edge_map, node_shape='o', arrows=True)  \n",
    "limits=plt.axis('off') # turn off axis\n",
    "plt.show()"
   ]
  },
  {
   "cell_type": "code",
   "execution_count": 25,
   "metadata": {},
   "outputs": [
    {
     "name": "stdout",
     "output_type": "stream",
     "text": [
      "+\n"
     ]
    }
   ],
   "source": [
    "print get_path_r(Gtest, \"C\", \"D\")"
   ]
  },
  {
   "cell_type": "code",
   "execution_count": null,
   "metadata": {},
   "outputs": [],
   "source": []
  },
  {
   "cell_type": "code",
   "execution_count": null,
   "metadata": {},
   "outputs": [],
   "source": []
  }
 ],
 "metadata": {
  "anaconda-cloud": {},
  "kernelspec": {
   "display_name": "Python 2",
   "language": "python",
   "name": "python2"
  },
  "language_info": {
   "codemirror_mode": {
    "name": "ipython",
    "version": 2
   },
   "file_extension": ".py",
   "mimetype": "text/x-python",
   "name": "python",
   "nbconvert_exporter": "python",
   "pygments_lexer": "ipython2",
   "version": "2.7.18"
  }
 },
 "nbformat": 4,
 "nbformat_minor": 2
}
